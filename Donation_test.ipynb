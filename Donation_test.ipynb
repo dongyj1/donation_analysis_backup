{
 "cells": [
  {
   "cell_type": "code",
   "execution_count": 1,
   "metadata": {},
   "outputs": [],
   "source": [
    "import pandas as pd\n",
    "import numpy as np\n",
    "import datetime\n",
    "import matplotlib.pyplot as plt"
   ]
  },
  {
   "cell_type": "code",
   "execution_count": 2,
   "metadata": {},
   "outputs": [
    {
     "name": "stdout",
     "output_type": "stream",
     "text": [
      "4570713\n",
      "966621\n",
      "966621\n",
      "966621\n",
      "597914\n"
     ]
    }
   ],
   "source": [
    "donations = pd.read_csv('valid_donation.csv')\n",
    "non_dup_donations = donations.drop_duplicates(subset=['_projectid'], keep='first')\n",
    "# donations._donor_acctid.unique()\n",
    "print(len(donations))\n",
    "print(len(non_dup_donations))\n",
    "print(len(donations['_projectid'].unique()))\n",
    "print(len(non_dup_donations['_projectid'].unique()))\n",
    "print(len(donations._donor_acctid.unique()))"
   ]
  },
  {
   "cell_type": "code",
   "execution_count": 117,
   "metadata": {},
   "outputs": [
    {
     "name": "stdout",
     "output_type": "stream",
     "text": [
      "<class 'pandas.core.frame.DataFrame'>\n",
      "966621\n",
      "0          22c50856b0824db76daf527da6af9abf\n",
      "1          c91489d7b6b89943a28555e6add72509\n",
      "2          01e2385f52c03386ee345c517be8f84e\n",
      "3          d74f5b847da546427a7de5bc96ab36a6\n",
      "4          f495e99822acc50e934a57943400bcfe\n",
      "5          328a087d929740c67d022611d2b7665f\n",
      "6          3da2caaabc638f2b75b70044fd503474\n",
      "7          d63c0d8e5b76530d476486e3336e1f3c\n",
      "8          9cfec1fc8809c8eeabfdbbc1c15c06af\n",
      "9          ba00327f5429603b82cd877c858b3f4a\n",
      "10         80c5148505230a7f24812abfbe7c1741\n",
      "11         b83ea08f81ad5abeeaf37df806f1925a\n",
      "12         cc21a98fafd4c662f85e8e554e9ae273\n",
      "13         90a42b859b69d656b60e4583f0469c15\n",
      "14         e0dd67c660dc50ec1b2dadf37f3c65d4\n",
      "15         4e769cfd53162200367c7f92419d9321\n",
      "16         480079fdc7a75ebb135fe1a2f0d15274\n",
      "17         f00a2c100229d370655841ed8341baed\n",
      "18         97cc9bb2f9ac369a9590d5ff1fbdab87\n",
      "19         0d9fd48bf1af1b99c053d6b7c35deb3e\n",
      "20         aaceb373450edf0f99b2c0351a03c41a\n",
      "21         7b22083116ec1754e307af5d2bc99d4d\n",
      "22         0d08a47c46b33e6b3f52a2e3d076b019\n",
      "23         7c6a03f0858c8cff5a877b25ab9394e8\n",
      "24         e5598d64ce4ee5e3cfaf9714ca82dcdc\n",
      "25         7cdaeef2fba2a18dad9975d05f3fbe16\n",
      "26         e0dd67c660dc50ec1b2dadf37f3c65d4\n",
      "27         2a4c3ad4729709b4e99acd78b2618345\n",
      "28         695dde0cb27c5449b5a4771f37576f7a\n",
      "29         6fbb426e6f59c415fe525bd6dd89e7a2\n",
      "                         ...               \n",
      "4570161    f053db899858c1b96ae8cec107d68281\n",
      "4570177    b06482cefd3ba20c21866db641e7fe70\n",
      "4570197    16e2fb8ff1fa6a1c317c30b20c6a3f57\n",
      "4570204    488e017095a1b976e36fde3d96162865\n",
      "4570208    05ac35c653e0e61e16ea3c0bf36e59f8\n",
      "4570230    c3300484979bec18a6e2f14a0f6e3c8f\n",
      "4570236    5bb8f51d47f840dc2dea655864df1fbf\n",
      "4570237    52e21a6fd4c299fea545f719916d6731\n",
      "4570243    1756d766dab5b3cac8f2aa500430f326\n",
      "4570244    c814852acfb4efcd25b6c4c2223f4fec\n",
      "4570266    63268bfef3600ec49245dc4b938cef0a\n",
      "4570267    a519420f00405789c19d473afc10a77d\n",
      "4570277    88bedfbea0af84a7b42072249d3a3d59\n",
      "4570282    9147997cbf51d7ceb75158aaaf7797f0\n",
      "4570287    78244be1d047c450261945134a120583\n",
      "4570320    879d9021f680428e3665b8fc17a22e1d\n",
      "4570350    3ee80954e0ec27f26c1c260606ce378d\n",
      "4570395    43bc5c6892c61fef11719982c90d8a98\n",
      "4570410    afc370bdbb6f79147da596658c67e5bf\n",
      "4570438    68681b2dc30cb8694d3a3321d1f8da6a\n",
      "4570498    47e531c4fa0eadc4d4b18296bb72416e\n",
      "4570572    1c73989d399c6ff9fff0be8e40d22dbb\n",
      "4570577    86e81a7343c86daaffd10d25fb929da7\n",
      "4570582    437fa041c38dcc2a4d96915ccb9c8e53\n",
      "4570583    b06482cefd3ba20c21866db641e7fe70\n",
      "4570623    d477b9612556e7757450155aeed3ab37\n",
      "4570643    79cdaa5fb09b9a35bc8a494a2a8e437c\n",
      "4570653    5069a01aae6fcc7e3e33d8e193bf9d59\n",
      "4570664    4f12e5f12e45b00acc726b871c327af7\n",
      "4570698    8d98f42fca9b79cc80d293d04a23b592\n",
      "Name: _donor_acctid, Length: 966621, dtype: object\n"
     ]
    }
   ],
   "source": [
    "print(type(non_dup_donations))\n",
    "print(len(non_dup_donations))\n",
    "print(non_dup_donations['_donor_acctid'])"
   ]
  },
  {
   "cell_type": "code",
   "execution_count": 3,
   "metadata": {},
   "outputs": [
    {
     "name": "stdout",
     "output_type": "stream",
     "text": [
      "_donor_acctid    597914\n",
      "_projectid       597914\n",
      "dtype: int64\n"
     ]
    }
   ],
   "source": [
    "# donations = donations.sort_values(['_donor_acctid', 'donation_timestamp'], ascending=[True, True])\n",
    "valid_donor = pd.read_csv('valid_donor.csv', sep='\\t')\n",
    "print(valid_donor.count())"
   ]
  },
  {
   "cell_type": "code",
   "execution_count": 51,
   "metadata": {},
   "outputs": [
    {
     "name": "stdout",
     "output_type": "stream",
     "text": [
      "                           _donor_acctid  _projectid\n",
      "537647  ba4ea8b994fc1bfba97718da50287576         8.0\n",
      "537648  6b65dfa81b5004472967913a084444eb         8.0\n",
      "537649  4d6c5f8b43d9d588b669822533d8c7b7         8.0\n",
      "537650  cc986c75d5541451fb7dfa9c1c7b3b63         8.0\n",
      "537651  b91e8d2bd7f14c226ab4211e65ba231f         8.0\n",
      "537652  f5c95555b2f9b50bd28402c1f42e81e1         8.0\n",
      "537653  72d76460065fbf0e5434a9d57ba36291         8.0\n",
      "537654  faa2162926fc624d252ecc53a5e1aedc         8.0\n",
      "537655  edeab3a20cf8c017d0bd8458f92445b8         8.0\n",
      "537656  502f9468c228c21cf6c99f9233bc81d9         8.0\n",
      "537657  32c721b9a76274ee05e120b656e953d2         8.0\n",
      "537658  09a907dc6454e348f592aeb6d9f041fa         8.0\n",
      "537659  9e7c09b62a148706af5f937627ee55f6         8.0\n",
      "537660  ba4d8ee0e2e51eef0825238fd4fae5ab         8.0\n",
      "537661  cc394148424ba77879feac4b6c972647         8.0\n",
      "537662  8eb559a1b2a84da968a7fa465972864f         8.0\n",
      "537663  6b35d1735528e41fc3464c7c47bc9ccd         8.0\n",
      "537664  02b03652a129f593d5f1a0ae9854bf31         8.0\n",
      "537665  72bdcefe6d9aeb183f605896ed059344         8.0\n",
      "537666  cdba241d73ac3bf24e6010773136b492         8.0\n",
      "537667  8e360363a1f62139f7ab38a1429b0786         8.0\n",
      "537668  501924fe1699b04a244b546760657991         8.0\n",
      "537669  8e72802a31be55d4e022379f53a3819f         8.0\n",
      "537670  5e3dea8807b7c9fda98ceddb813bbf34         8.0\n",
      "537671  24566a831b49d987eece984bbe6f629f         8.0\n",
      "537672  6640711f28a993143e0b0ef1d03d92d1         8.0\n",
      "537673  edec6212907c48071000a6f550fb29a6         8.0\n",
      "537674  cbe3df8d14f6e883d0daabf7aca493a3         8.0\n",
      "537675  8e6269aa0bf866c0ab85bf25f875b5ce         8.0\n",
      "537676  3b900a74c5b6fce87eb5b785abb911dd         8.0\n",
      "...                                  ...         ...\n",
      "547036  f434954f6d2c7a5079f6a58b76ad1808         8.0\n",
      "547037  b7b71beb0019b232aa504854385d102a         8.0\n",
      "547038  3e77054a80534a45711d68dbec71e0d1         8.0\n",
      "547039  301e4e46287b81586e6d00ecbbbd1c83         8.0\n",
      "547040  309135c83e5b665a6a89d75159e06a7f         8.0\n",
      "547041  3c49c2f068c8d022bdac3b8450a683d0         8.0\n",
      "547042  5734b1f2d2f49f6edcb2177bbc44ba10         8.0\n",
      "547043  6b88d722d0ff7a0916b6ea3473452736         8.0\n",
      "547044  8c1330624d146e3f83a2b223b4865076         8.0\n",
      "547045  3e97df29668948b94256c36b17db5a70         8.0\n",
      "547046  8bfc7111247fb51ff243130eced251ce         8.0\n",
      "547047  63f7abc87229e486ecfcf98e36501a75         8.0\n",
      "547048  e7703f76ba14a57e676efac7d1141353         8.0\n",
      "547049  6c95238b45ac3e3006754e24a277810d         8.0\n",
      "547050  53d3382c45baa239ac5b244f95d292cb         8.0\n",
      "547051  f573b1a1575ee7df207e47d07f4628b5         8.0\n",
      "547052  78cb9a7d6c9f67dea3f1194d28d225f2         8.0\n",
      "547053  d402ec1ee2d5886e4a627901925b7db4         8.0\n",
      "547054  4d445b4f012cdb2c573f9aad0b517e5a         8.0\n",
      "547055  a360c983123664f567d2a87f2c75c7d4         8.0\n",
      "547056  51565466542b3dbecec6fc8069f21ded         8.0\n",
      "547057  5156b653bd1332b67101183aeb9cec92         8.0\n",
      "547058  63e2d793e026ac0ff4a62d7b77178473         8.0\n",
      "547059  b7ec87a1a38839f3a8eb004b97b0627f         8.0\n",
      "547060  d5bc7c5b803007547d2df1058572455c         8.0\n",
      "547061  d3f177f41507fb3f521d1758d99da356         8.0\n",
      "547062  49c392b3c4e9333d79e25b05511950e5         8.0\n",
      "547063  30acfe0498408cd30dff11f86a0139b5         8.0\n",
      "547064  8c331dc8a6808cfce6c46fc664c35db9         8.0\n",
      "547065  8c359a956dc94136f0c9427cfba7848f         8.0\n",
      "\n",
      "[9419 rows x 2 columns]\n",
      "_donor_acctid    9419\n",
      "_projectid       9419\n",
      "dtype: int64\n",
      "_donor_acctid    0.015753\n",
      "_projectid       0.015753\n",
      "dtype: float64\n"
     ]
    }
   ],
   "source": [
    "# Testing Start point for donor_list_for_print_1\n",
    "#project_num = [3]   #starts 284541\n",
    "#project_num = [4]   #starts 175565\n",
    "#project_num = [5]   #starts 122679\n",
    "#project_num = [6]   #starts 92224\n",
    "#project_num = [7]   #starts 73226\n",
    "project_num = [8]   #starts 60267\n",
    "donor_range = valid_donor[valid_donor['_projectid'].isin(project_num)]\n",
    "print(donor_range)\n",
    "print(donor_range.count())\n",
    "print(donor_range.count()/valid_donor.count())"
   ]
  },
  {
   "cell_type": "code",
   "execution_count": 141,
   "metadata": {},
   "outputs": [],
   "source": [
    "# valid_donor_sorted_by_project_count = valid_donor['_projectid'].sort_values()\n",
    "#print(type(valid_donor.iloc[-30:]))\n",
    "# donor_list_for_print = valid_donor.iloc[-300:]['_donor_acctid']\n",
    "donor_list_for_print_1 = valid_donor.iloc[-50180:-50170]['_donor_acctid']\n",
    "#print(donor_list_for_print_1.values)"
   ]
  },
  {
   "cell_type": "code",
   "execution_count": 146,
   "metadata": {},
   "outputs": [
    {
     "name": "stdout",
     "output_type": "stream",
     "text": [
      "<class 'str'>\n",
      "2016\n"
     ]
    }
   ],
   "source": [
    "\"\"\"\n",
    "donor_test = donations.loc[donations['_donor_acctid'] == '41d1e5bcc907b51150887d8fe591ffa3']\n",
    "donor_time_asc = donor_test.sort_values('donation_timestamp', ascending= True)\n",
    "#print(type(donor_time_asc))\n",
    "\n",
    "# set first row(first 4 digit) of timestamp as start_yr, last row(first 4 digit) of timestamp as end_yr\n",
    "start_yr = donor_time_asc['donation_timestamp'].iloc[0][0:4]\n",
    "end_yr = donor_time_asc['donation_timestamp'].iloc[-1][0:4]\n",
    "print(type(start_yr))\n",
    "print(end_yr)\n",
    "\"\"\""
   ]
  },
  {
   "cell_type": "code",
   "execution_count": 21,
   "metadata": {},
   "outputs": [
    {
     "name": "stdout",
     "output_type": "stream",
     "text": [
      "True\n",
      "(17120,)\n",
      "(14506,)\n",
      "(6511,)\n",
      "(35619,)\n"
     ]
    }
   ],
   "source": [
    "\"\"\"\n",
    "import datetime\n",
    "data_2014 = donor_test[donor_test.donation_timestamp.str.startswith('2014')]\n",
    "data_2015 = donor_test[donor_test.donation_timestamp.str.startswith('2015')]\n",
    "data_2016 = donor_test[donor_test.donation_timestamp.str.startswith('2016')]\n",
    "print(donor_test.shape[0] == data_2014.shape[0] + data_2015.shape[0] + data_2016.shape[0])\n",
    "print(data_2014._projectid.unique().shape)\n",
    "print(data_2015._projectid.unique().shape)\n",
    "print(data_2016._projectid.unique().shape)\n",
    "print(donor_test._projectid.unique().shape)\n",
    "\"\"\""
   ]
  },
  {
   "cell_type": "code",
   "execution_count": 24,
   "metadata": {},
   "outputs": [
    {
     "name": "stdout",
     "output_type": "stream",
     "text": [
      "[17120, 14506, 6511]\n"
     ]
    }
   ],
   "source": [
    "\"\"\"\n",
    "import datetime\n",
    "start_year = 2014\n",
    "end_year = 2016\n",
    "project_num_arr = []\n",
    "for year in range(start_year, end_year + 1):\n",
    "    data = donor_test[donor_test.donation_timestamp.str.startswith(str(year))]\n",
    "    project_num_arr.append(data._projectid.unique().shape[0])\n",
    "# print(project_num_arr)\n",
    "\"\"\""
   ]
  },
  {
   "cell_type": "code",
   "execution_count": 44,
   "metadata": {},
   "outputs": [
    {
     "data": {
      "text/plain": [
       "[<matplotlib.lines.Line2D at 0x7fc168568b38>]"
      ]
     },
     "execution_count": 44,
     "metadata": {},
     "output_type": "execute_result"
    },
    {
     "data": {
      "image/png": "[encoded data removed]",
      "text/plain": [
       "<Figure size 432x288 with 1 Axes>"
      ]
     },
     "metadata": {},
     "output_type": "display_data"
    }
   ],
   "source": [
    "\"\"\"\n",
    "import matplotlib.pyplot as plt\n",
    "years = [year for year in range(start_year, end_year + 1)]\n",
    "plt.plot(years, project_num_arr)\n",
    "\"\"\""
   ]
  },
  {
   "cell_type": "code",
   "execution_count": 92,
   "metadata": {},
   "outputs": [],
   "source": [
    "def plot_donor_proj(donations, donor_id):\n",
    "    donor_test = donations.loc[donations['_donor_acctid'] == donor_id]\n",
    "    donor_time_asc = donor_test.sort_values('donation_timestamp', ascending= True)\n",
    "    start_yr = donor_time_asc['donation_timestamp'].iloc[0][0:4]\n",
    "    end_yr = donor_time_asc['donation_timestamp'].iloc[-1][0:4]\n",
    "    start_year = int(start_yr)\n",
    "    end_year = int(end_yr)\n",
    "    T = (end_year - start_year)\n",
    "    project_num_arr = []\n",
    "    \n",
    "    for year in range(start_year, end_year + 1):\n",
    "        data = donor_test[donor_test.donation_timestamp.str.startswith(str(year))]\n",
    "        project_num_arr.append(data._projectid.unique().shape[0])\n",
    "        \n",
    "    x_years = [year for year in range(1, T + 2)]\n",
    "    plt.xticks(x_years)\n",
    "    assert(len(x_years) == len(project_num_arr))\n",
    "    plt.plot(x_years, project_num_arr)\n"
   ]
  },
  {
   "cell_type": "code",
   "execution_count": 56,
   "metadata": {},
   "outputs": [],
   "source": [
    "\"\"\"\n",
    "#Testing Function\n",
    "donor_test = donations.loc[donations['_donor_acctid'] == '501924fe1699b04a244b546760657991']\n",
    "donor_time_asc = donor_test.sort_values('donation_timestamp', ascending= True)\n",
    "start_yr = donor_time_asc['donation_timestamp'].iloc[0][0:4]\n",
    "end_yr = donor_time_asc['donation_timestamp'].iloc[-1][0:4]\n",
    "start_year = int(start_yr)\n",
    "end_year = int(end_yr)\n",
    "print(start_year)\n",
    "print(end_year)\n",
    "T = (end_year - start_year)\n",
    "print(T)\n",
    "\n",
    "project_num_arr = []\n",
    "for year in range(start_year, end_year + 1):\n",
    "        data = donor_test[donor_test.donation_timestamp.str.startswith(str(year))]\n",
    "        print(data)\n",
    "        project_num_arr.append(data._projectid.unique().shape[0])\n",
    "print(project_num_arr)\n",
    "\n",
    "x_years = [year for year in range(1, (T+2))]\n",
    "print(x_years)\n",
    "\"\"\""
   ]
  },
  {
   "cell_type": "code",
   "execution_count": 25,
   "metadata": {},
   "outputs": [],
   "source": [
    "\"\"\"\n",
    "def plot_donor_proj_uniq(donations, donor_id):\n",
    "    donor_test = donations.loc[donations['_donor_acctid'] == donor_id]\n",
    "    donor_time_asc = donor_test.sort_values('donation_timestamp', ascending= True)\n",
    "    donor_time_asc = donor_time_asc.drop_duplicates(subset=['_projectid'], keep='first')\n",
    "    try:\n",
    "        start_yr = donor_time_asc['donation_timestamp'].iloc[0][0:4]\n",
    "        end_yr = donor_time_asc['donation_timestamp'].iloc[-1][0:4]\n",
    "    except:\n",
    "        print(donor_time_asc['donation_timestamp'].iloc[0])\n",
    "        print(donor_time_asc['donation_timestamp'].iloc[-1])\n",
    "    start_year = int(start_yr)\n",
    "    end_year = int(end_yr)\n",
    "    project_num_arr = []\n",
    "    \n",
    "    for year in range(start_year, end_year + 1):\n",
    "        data = donor_test[donor_test.donation_timestamp.str.startswith(str(year))]\n",
    "        project_num_arr.append(data._projectid.unique().shape[0])\n",
    "        # Add sth here\n",
    "        \n",
    "    x_years = [year for year in range(start_year, end_year + 1)]\n",
    "    plt.xticks(x_years)\n",
    "    assert(len(x_years) == len(project_num_arr))\n",
    "    plt.plot(x_years, project_num_arr)\n",
    "\"\"\""
   ]
  },
  {
   "cell_type": "code",
   "execution_count": 167,
   "metadata": {},
   "outputs": [
    {
     "data": {
      "text/plain": [
       "\"\\nplot_donor_proj(donations, '68c355078d2e13b3d0ec6f887f9bca9c', 2014, 2016)\\nplot_donor_proj(donations, 'af50cb46f3d253b2f65e07e4ad901453', 2015, 2016)\\nplot_donor_proj(donations, 'e0dd67c660dc50ec1b2dadf37f3c65d4', 2013, 2016)\\nplot_donor_proj(donations, '41d1e5bcc907b51150887d8fe591ffa3', 2014, 2016)\\n\""
      ]
     },
     "execution_count": 167,
     "metadata": {},
     "output_type": "execute_result"
    }
   ],
   "source": [
    "\"\"\"\n",
    "plot_donor_proj(donations, '68c355078d2e13b3d0ec6f887f9bca9c', 2014, 2016)\n",
    "plot_donor_proj(donations, 'af50cb46f3d253b2f65e07e4ad901453', 2015, 2016)\n",
    "plot_donor_proj(donations, 'e0dd67c660dc50ec1b2dadf37f3c65d4', 2013, 2016)\n",
    "plot_donor_proj(donations, '41d1e5bcc907b51150887d8fe591ffa3', 2014, 2016)\n",
    "\"\"\""
   ]
  },
  {
   "cell_type": "code",
   "execution_count": 142,
   "metadata": {},
   "outputs": [
    {
     "data": {
      "image/png": "[encoded data removed]",
      "text/plain": [
       "<Figure size 432x288 with 1 Axes>"
      ]
     },
     "metadata": {},
     "output_type": "display_data"
    }
   ],
   "source": [
    "# Unique as each year \n",
    "for donor in donor_list_for_print_1.values:\n",
    "    plot_donor_proj(donations, donor)"
   ]
  },
  {
   "cell_type": "code",
   "execution_count": 104,
   "metadata": {},
   "outputs": [
    {
     "ename": "IndexError",
     "evalue": "single positional indexer is out-of-bounds",
     "output_type": "error",
     "traceback": [
      "\u001b[0;31m---------------------------------------------------------------------------\u001b[0m",
      "\u001b[0;31mIndexError\u001b[0m                                Traceback (most recent call last)",
      "\u001b[0;32m<ipython-input-104-af1adade0159>\u001b[0m in \u001b[0;36m<module>\u001b[0;34m()\u001b[0m\n\u001b[1;32m      1\u001b[0m \u001b[0;31m# Unique as lifetime\u001b[0m\u001b[0;34m\u001b[0m\u001b[0;34m\u001b[0m\u001b[0m\n\u001b[1;32m      2\u001b[0m \u001b[0;32mfor\u001b[0m \u001b[0mdonor\u001b[0m \u001b[0;32min\u001b[0m \u001b[0mdonor_list_for_print_1\u001b[0m\u001b[0;34m.\u001b[0m\u001b[0mvalues\u001b[0m\u001b[0;34m:\u001b[0m\u001b[0;34m\u001b[0m\u001b[0m\n\u001b[0;32m----> 3\u001b[0;31m     \u001b[0mplot_donor_proj\u001b[0m\u001b[0;34m(\u001b[0m\u001b[0mnon_dup_donations\u001b[0m\u001b[0;34m,\u001b[0m \u001b[0mdonor\u001b[0m\u001b[0;34m)\u001b[0m\u001b[0;34m\u001b[0m\u001b[0m\n\u001b[0m",
      "\u001b[0;32m<ipython-input-92-933cfb72f34d>\u001b[0m in \u001b[0;36mplot_donor_proj\u001b[0;34m(donations, donor_id)\u001b[0m\n\u001b[1;32m      2\u001b[0m     \u001b[0mdonor_test\u001b[0m \u001b[0;34m=\u001b[0m \u001b[0mdonations\u001b[0m\u001b[0;34m.\u001b[0m\u001b[0mloc\u001b[0m\u001b[0;34m[\u001b[0m\u001b[0mdonations\u001b[0m\u001b[0;34m[\u001b[0m\u001b[0;34m'_donor_acctid'\u001b[0m\u001b[0;34m]\u001b[0m \u001b[0;34m==\u001b[0m \u001b[0mdonor_id\u001b[0m\u001b[0;34m]\u001b[0m\u001b[0;34m\u001b[0m\u001b[0m\n\u001b[1;32m      3\u001b[0m     \u001b[0mdonor_time_asc\u001b[0m \u001b[0;34m=\u001b[0m \u001b[0mdonor_test\u001b[0m\u001b[0;34m.\u001b[0m\u001b[0msort_values\u001b[0m\u001b[0;34m(\u001b[0m\u001b[0;34m'donation_timestamp'\u001b[0m\u001b[0;34m,\u001b[0m \u001b[0mascending\u001b[0m\u001b[0;34m=\u001b[0m \u001b[0;32mTrue\u001b[0m\u001b[0;34m)\u001b[0m\u001b[0;34m\u001b[0m\u001b[0m\n\u001b[0;32m----> 4\u001b[0;31m     \u001b[0mstart_yr\u001b[0m \u001b[0;34m=\u001b[0m \u001b[0mdonor_time_asc\u001b[0m\u001b[0;34m[\u001b[0m\u001b[0;34m'donation_timestamp'\u001b[0m\u001b[0;34m]\u001b[0m\u001b[0;34m.\u001b[0m\u001b[0miloc\u001b[0m\u001b[0;34m[\u001b[0m\u001b[0;36m0\u001b[0m\u001b[0;34m]\u001b[0m\u001b[0;34m[\u001b[0m\u001b[0;36m0\u001b[0m\u001b[0;34m:\u001b[0m\u001b[0;36m4\u001b[0m\u001b[0;34m]\u001b[0m\u001b[0;34m\u001b[0m\u001b[0m\n\u001b[0m\u001b[1;32m      5\u001b[0m     \u001b[0mend_yr\u001b[0m \u001b[0;34m=\u001b[0m \u001b[0mdonor_time_asc\u001b[0m\u001b[0;34m[\u001b[0m\u001b[0;34m'donation_timestamp'\u001b[0m\u001b[0;34m]\u001b[0m\u001b[0;34m.\u001b[0m\u001b[0miloc\u001b[0m\u001b[0;34m[\u001b[0m\u001b[0;34m-\u001b[0m\u001b[0;36m1\u001b[0m\u001b[0;34m]\u001b[0m\u001b[0;34m[\u001b[0m\u001b[0;36m0\u001b[0m\u001b[0;34m:\u001b[0m\u001b[0;36m4\u001b[0m\u001b[0;34m]\u001b[0m\u001b[0;34m\u001b[0m\u001b[0m\n\u001b[1;32m      6\u001b[0m     \u001b[0mstart_year\u001b[0m \u001b[0;34m=\u001b[0m \u001b[0mint\u001b[0m\u001b[0;34m(\u001b[0m\u001b[0mstart_yr\u001b[0m\u001b[0;34m)\u001b[0m\u001b[0;34m\u001b[0m\u001b[0m\n",
      "\u001b[0;32m~/anaconda3/lib/python3.6/site-packages/pandas/core/indexing.py\u001b[0m in \u001b[0;36m__getitem__\u001b[0;34m(self, key)\u001b[0m\n\u001b[1;32m   1371\u001b[0m \u001b[0;34m\u001b[0m\u001b[0m\n\u001b[1;32m   1372\u001b[0m             \u001b[0mmaybe_callable\u001b[0m \u001b[0;34m=\u001b[0m \u001b[0mcom\u001b[0m\u001b[0;34m.\u001b[0m\u001b[0m_apply_if_callable\u001b[0m\u001b[0;34m(\u001b[0m\u001b[0mkey\u001b[0m\u001b[0;34m,\u001b[0m \u001b[0mself\u001b[0m\u001b[0;34m.\u001b[0m\u001b[0mobj\u001b[0m\u001b[0;34m)\u001b[0m\u001b[0;34m\u001b[0m\u001b[0m\n\u001b[0;32m-> 1373\u001b[0;31m             \u001b[0;32mreturn\u001b[0m \u001b[0mself\u001b[0m\u001b[0;34m.\u001b[0m\u001b[0m_getitem_axis\u001b[0m\u001b[0;34m(\u001b[0m\u001b[0mmaybe_callable\u001b[0m\u001b[0;34m,\u001b[0m \u001b[0maxis\u001b[0m\u001b[0;34m=\u001b[0m\u001b[0maxis\u001b[0m\u001b[0;34m)\u001b[0m\u001b[0;34m\u001b[0m\u001b[0m\n\u001b[0m\u001b[1;32m   1374\u001b[0m \u001b[0;34m\u001b[0m\u001b[0m\n\u001b[1;32m   1375\u001b[0m     \u001b[0;32mdef\u001b[0m \u001b[0m_is_scalar_access\u001b[0m\u001b[0;34m(\u001b[0m\u001b[0mself\u001b[0m\u001b[0;34m,\u001b[0m \u001b[0mkey\u001b[0m\u001b[0;34m)\u001b[0m\u001b[0;34m:\u001b[0m\u001b[0;34m\u001b[0m\u001b[0m\n",
      "\u001b[0;32m~/anaconda3/lib/python3.6/site-packages/pandas/core/indexing.py\u001b[0m in \u001b[0;36m_getitem_axis\u001b[0;34m(self, key, axis)\u001b[0m\n\u001b[1;32m   1828\u001b[0m \u001b[0;34m\u001b[0m\u001b[0m\n\u001b[1;32m   1829\u001b[0m             \u001b[0;31m# validate the location\u001b[0m\u001b[0;34m\u001b[0m\u001b[0;34m\u001b[0m\u001b[0m\n\u001b[0;32m-> 1830\u001b[0;31m             \u001b[0mself\u001b[0m\u001b[0;34m.\u001b[0m\u001b[0m_is_valid_integer\u001b[0m\u001b[0;34m(\u001b[0m\u001b[0mkey\u001b[0m\u001b[0;34m,\u001b[0m \u001b[0maxis\u001b[0m\u001b[0;34m)\u001b[0m\u001b[0;34m\u001b[0m\u001b[0m\n\u001b[0m\u001b[1;32m   1831\u001b[0m \u001b[0;34m\u001b[0m\u001b[0m\n\u001b[1;32m   1832\u001b[0m             \u001b[0;32mreturn\u001b[0m \u001b[0mself\u001b[0m\u001b[0;34m.\u001b[0m\u001b[0m_get_loc\u001b[0m\u001b[0;34m(\u001b[0m\u001b[0mkey\u001b[0m\u001b[0;34m,\u001b[0m \u001b[0maxis\u001b[0m\u001b[0;34m=\u001b[0m\u001b[0maxis\u001b[0m\u001b[0;34m)\u001b[0m\u001b[0;34m\u001b[0m\u001b[0m\n",
      "\u001b[0;32m~/anaconda3/lib/python3.6/site-packages/pandas/core/indexing.py\u001b[0m in \u001b[0;36m_is_valid_integer\u001b[0;34m(self, key, axis)\u001b[0m\n\u001b[1;32m   1711\u001b[0m         \u001b[0ml\u001b[0m \u001b[0;34m=\u001b[0m \u001b[0mlen\u001b[0m\u001b[0;34m(\u001b[0m\u001b[0max\u001b[0m\u001b[0;34m)\u001b[0m\u001b[0;34m\u001b[0m\u001b[0m\n\u001b[1;32m   1712\u001b[0m         \u001b[0;32mif\u001b[0m \u001b[0mkey\u001b[0m \u001b[0;34m>=\u001b[0m \u001b[0ml\u001b[0m \u001b[0;32mor\u001b[0m \u001b[0mkey\u001b[0m \u001b[0;34m<\u001b[0m \u001b[0;34m-\u001b[0m\u001b[0ml\u001b[0m\u001b[0;34m:\u001b[0m\u001b[0;34m\u001b[0m\u001b[0m\n\u001b[0;32m-> 1713\u001b[0;31m             \u001b[0;32mraise\u001b[0m \u001b[0mIndexError\u001b[0m\u001b[0;34m(\u001b[0m\u001b[0;34m\"single positional indexer is out-of-bounds\"\u001b[0m\u001b[0;34m)\u001b[0m\u001b[0;34m\u001b[0m\u001b[0m\n\u001b[0m\u001b[1;32m   1714\u001b[0m         \u001b[0;32mreturn\u001b[0m \u001b[0;32mTrue\u001b[0m\u001b[0;34m\u001b[0m\u001b[0m\n\u001b[1;32m   1715\u001b[0m \u001b[0;34m\u001b[0m\u001b[0m\n",
      "\u001b[0;31mIndexError\u001b[0m: single positional indexer is out-of-bounds"
     ]
    },
    {
     "data": {
      "image/png": "[encoded data removed]",
      "text/plain": [
       "<Figure size 432x288 with 1 Axes>"
      ]
     },
     "metadata": {},
     "output_type": "display_data"
    }
   ],
   "source": [
    "# Unique as lifetime \n",
    "for donor in donor_list_for_print_1.values:\n",
    "    plot_donor_proj(non_dup_donations, donor)"
   ]
  },
  {
   "cell_type": "code",
   "execution_count": null,
   "metadata": {},
   "outputs": [],
   "source": [
    "count = 0"
   ]
  },
  {
   "cell_type": "code",
   "execution_count": 113,
   "metadata": {},
   "outputs": [],
   "source": [
    "def plot_donor_proj(donations, donor_id):\n",
    "    donor_test = donations.loc[donations['_donor_acctid'] == donor_id]\n",
    "    if notdonor_test.empty:\n",
    "        \n",
    "    donor_time_asc = donor_test.sort_values('donation_timestamp', ascending= True)\n",
    "    try:\n",
    "        start_yr = donor_time_asc['donation_timestamp'].iloc[0][0:4]\n",
    "        end_yr = donor_time_asc['donation_timestamp'].iloc[-1][0:4]\n",
    "    except:\n",
    "        print(donor_test)\n",
    "        print(donor_time_asc['donation_timestamp'])\n",
    "        print(donor_time_asc['donation_timestamp'].iloc[-1])\n",
    "    start_year = int(start_yr)\n",
    "    end_year = int(end_yr)\n",
    "    T = (end_year - start_year)\n",
    "    project_num_arr = []\n",
    "    \n",
    "    for year in range(start_year, end_year + 1):\n",
    "        data = donor_test[donor_test.donation_timestamp.str.startswith(str(year))]\n",
    "        project_num_arr.append(data._projectid.unique().shape[0])\n",
    "        \n",
    "    x_years = [year for year in range(1, T + 2)]\n",
    "    plt.xticks(x_years)\n",
    "    assert(len(x_years) == len(project_num_arr))\n",
    "    plt.plot(x_years, project_num_arr)"
   ]
  },
  {
   "cell_type": "code",
   "execution_count": 114,
   "metadata": {},
   "outputs": [
    {
     "ename": "UnboundLocalError",
     "evalue": "local variable 'count' referenced before assignment",
     "output_type": "error",
     "traceback": [
      "\u001b[0;31m---------------------------------------------------------------------------\u001b[0m",
      "\u001b[0;31mUnboundLocalError\u001b[0m                         Traceback (most recent call last)",
      "\u001b[0;32m<ipython-input-114-fbdaebbe1b36>\u001b[0m in \u001b[0;36m<module>\u001b[0;34m()\u001b[0m\n\u001b[1;32m      1\u001b[0m \u001b[0;32mfor\u001b[0m \u001b[0mdonor\u001b[0m \u001b[0;32min\u001b[0m \u001b[0mdonor_list_for_print_1\u001b[0m\u001b[0;34m.\u001b[0m\u001b[0mvalues\u001b[0m\u001b[0;34m:\u001b[0m\u001b[0;34m\u001b[0m\u001b[0m\n\u001b[0;32m----> 2\u001b[0;31m     \u001b[0mplot_donor_proj\u001b[0m\u001b[0;34m(\u001b[0m\u001b[0mnon_dup_donations\u001b[0m\u001b[0;34m,\u001b[0m \u001b[0mdonor\u001b[0m\u001b[0;34m)\u001b[0m\u001b[0;34m\u001b[0m\u001b[0m\n\u001b[0m",
      "\u001b[0;32m<ipython-input-113-bd0c38ef30b4>\u001b[0m in \u001b[0;36mplot_donor_proj\u001b[0;34m(donations, donor_id)\u001b[0m\n\u001b[1;32m      2\u001b[0m     \u001b[0mdonor_test\u001b[0m \u001b[0;34m=\u001b[0m \u001b[0mdonations\u001b[0m\u001b[0;34m.\u001b[0m\u001b[0mloc\u001b[0m\u001b[0;34m[\u001b[0m\u001b[0mdonations\u001b[0m\u001b[0;34m[\u001b[0m\u001b[0;34m'_donor_acctid'\u001b[0m\u001b[0;34m]\u001b[0m \u001b[0;34m==\u001b[0m \u001b[0mdonor_id\u001b[0m\u001b[0;34m]\u001b[0m\u001b[0;34m\u001b[0m\u001b[0m\n\u001b[1;32m      3\u001b[0m     \u001b[0;32mif\u001b[0m \u001b[0;34m(\u001b[0m\u001b[0mdonor_test\u001b[0m\u001b[0;34m.\u001b[0m\u001b[0mempty\u001b[0m\u001b[0;34m)\u001b[0m\u001b[0;34m:\u001b[0m\u001b[0;34m\u001b[0m\u001b[0m\n\u001b[0;32m----> 4\u001b[0;31m         \u001b[0mcount\u001b[0m \u001b[0;34m+=\u001b[0m \u001b[0;36m1\u001b[0m\u001b[0;34m\u001b[0m\u001b[0m\n\u001b[0m\u001b[1;32m      5\u001b[0m         \u001b[0;32mreturn\u001b[0m\u001b[0;34m\u001b[0m\u001b[0m\n\u001b[1;32m      6\u001b[0m     \u001b[0mdonor_time_asc\u001b[0m \u001b[0;34m=\u001b[0m \u001b[0mdonor_test\u001b[0m\u001b[0;34m.\u001b[0m\u001b[0msort_values\u001b[0m\u001b[0;34m(\u001b[0m\u001b[0;34m'donation_timestamp'\u001b[0m\u001b[0;34m,\u001b[0m \u001b[0mascending\u001b[0m\u001b[0;34m=\u001b[0m \u001b[0;32mTrue\u001b[0m\u001b[0;34m)\u001b[0m\u001b[0;34m\u001b[0m\u001b[0m\n",
      "\u001b[0;31mUnboundLocalError\u001b[0m: local variable 'count' referenced before assignment"
     ]
    },
    {
     "data": {
      "image/png": "[encoded data removed]",
      "text/plain": [
       "<Figure size 432x288 with 1 Axes>"
      ]
     },
     "metadata": {},
     "output_type": "display_data"
    }
   ],
   "source": [
    "for donor in donor_list_for_print_1.values:\n",
    "    plot_donor_proj(non_dup_donations, donor)"
   ]
  },
  {
   "cell_type": "code",
   "execution_count": null,
   "metadata": {},
   "outputs": [],
   "source": []
  }
 ],
 "metadata": {
  "kernelspec": {
   "display_name": "Python 3",
   "language": "python",
   "name": "python3"
  },
  "language_info": {
   "codemirror_mode": {
    "name": "ipython",
    "version": 3
   },
   "file_extension": ".py",
   "mimetype": "text/x-python",
   "name": "python",
   "nbconvert_exporter": "python",
   "pygments_lexer": "ipython3",
   "version": "3.6.5"
  }
 },
 "nbformat": 4,
 "nbformat_minor": 2
}
